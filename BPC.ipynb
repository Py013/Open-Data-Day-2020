{
 "cells": [
  {
   "cell_type": "code",
   "execution_count": 176,
   "metadata": {},
   "outputs": [
    {
     "data": {
      "image/png": "[encoded data removed]",
      "text/plain": [
       "<IPython.core.display.Image object>"
      ]
     },
     "metadata": {},
     "output_type": "display_data"
    }
   ],
   "source": [
    "from IPython.core.display import Image, display\n",
    "display(Image('py013_sticker.png'))"
   ]
  },
  {
   "cell_type": "markdown",
   "metadata": {},
   "source": [
    "### <font color='blue'>Explorando os dados do BPC</font>"
   ]
  },
  {
   "cell_type": "markdown",
   "metadata": {},
   "source": [
    "Beneficio de Progressão Continuada: https://www.inss.gov.br/beneficios/beneficio-assistencia-a-pessoa-com-deficiencia-bpc/ \n",
    "\n",
    "O Benefício de Prestação Continuada (BPC) da Lei Orgânica da Assistência Social (LOAS) é a garantia de um salário mínimo mensal à pessoa com deficiência que comprove não possuir meios de prover a própria manutenção, nem de tê-la provida por sua família."
   ]
  },
  {
   "cell_type": "markdown",
   "metadata": {},
   "source": [
    "### 1 - Carregando os dados"
   ]
  },
  {
   "cell_type": "code",
   "execution_count": 32,
   "metadata": {},
   "outputs": [],
   "source": [
    "#Import de bibliotecas\n",
    "\n",
    "#Pandas\n",
    "import pandas as pd \n",
    "\n",
    "#Numpy\n",
    "import numpy as np\n",
    "pd.set_option('display.float_format', lambda x: '%.2f' % x)\n",
    "\n",
    "#Matplotlib\n",
    "import matplotlib as mpl\n",
    "import matplotlib.pyplot as plt\n",
    "%matplotlib inline"
   ]
  },
  {
   "cell_type": "code",
   "execution_count": null,
   "metadata": {
    "collapsed": true,
    "jupyter": {
     "outputs_hidden": true
    }
   },
   "outputs": [],
   "source": [
    "#Carrega dados no dataset inicial \n",
    "dados_bpc = pd.read_csv('201901_BPC.csv', sep = ';', encoding = 'latin-1', low_memory=False)"
   ]
  },
  {
   "cell_type": "code",
   "execution_count": 4,
   "metadata": {},
   "outputs": [
    {
     "data": {
      "text/plain": [
       "(4631027, 14)"
      ]
     },
     "execution_count": 4,
     "metadata": {},
     "output_type": "execute_result"
    }
   ],
   "source": [
    "#Tamanho do dataset\n",
    "dados_bpc.shape"
   ]
  },
  {
   "cell_type": "code",
   "execution_count": null,
   "metadata": {
    "collapsed": true,
    "jupyter": {
     "outputs_hidden": true
    }
   },
   "outputs": [],
   "source": [
    "#Verifica o tipo do objeto\n",
    "type(dados_bpc)"
   ]
  },
  {
   "cell_type": "code",
   "execution_count": null,
   "metadata": {
    "collapsed": true,
    "jupyter": {
     "outputs_hidden": true
    }
   },
   "outputs": [],
   "source": [
    "#Verifica a tipo das colunas do dataframe\n",
    "dados_bpc.dtypes"
   ]
  },
  {
   "cell_type": "code",
   "execution_count": null,
   "metadata": {
    "collapsed": true,
    "jupyter": {
     "outputs_hidden": true
    }
   },
   "outputs": [],
   "source": [
    "dados_bpc.head(3)"
   ]
  },
  {
   "cell_type": "code",
   "execution_count": 5,
   "metadata": {},
   "outputs": [],
   "source": [
    "#Renomeia o nomes das colunas do dataset\n",
    "nome_colunas = ['MÊS_COMPETÊNCIA', 'MÊS_REFERÊNCIA','UF', 'COD_MUNICIPIO', 'NM_MUNICIPIO','NIS','CPF','NM_BENEFICIARIO',\n",
    "                'NIS_REPRESENTANTE','CPF_REPRESENTANTE','NM_REPRESENTANTE','NR_BENEFICIO','JUDICIALMENTE','VALOR']"
   ]
  },
  {
   "cell_type": "code",
   "execution_count": 6,
   "metadata": {},
   "outputs": [],
   "source": [
    "#Carrega dados no dataset inicial \n",
    "dados_bpc = pd.read_csv('201901_BPC.csv', names = nome_colunas, sep = ';', encoding = 'latin-1', low_memory=False, header=0, dtype = {'VALOR': float }, decimal=',')"
   ]
  },
  {
   "cell_type": "code",
   "execution_count": 65,
   "metadata": {},
   "outputs": [
    {
     "data": {
      "text/html": [
       "<div>\n",
       "<style scoped>\n",
       "    .dataframe tbody tr th:only-of-type {\n",
       "        vertical-align: middle;\n",
       "    }\n",
       "\n",
       "    .dataframe tbody tr th {\n",
       "        vertical-align: top;\n",
       "    }\n",
       "\n",
       "    .dataframe thead th {\n",
       "        text-align: right;\n",
       "    }\n",
       "</style>\n",
       "<table border=\"1\" class=\"dataframe\">\n",
       "  <thead>\n",
       "    <tr style=\"text-align: right;\">\n",
       "      <th></th>\n",
       "      <th>MÊS_COMPETÊNCIA</th>\n",
       "      <th>MÊS_REFERÊNCIA</th>\n",
       "      <th>UF</th>\n",
       "      <th>COD_MUNICIPIO</th>\n",
       "      <th>NM_MUNICIPIO</th>\n",
       "      <th>NIS</th>\n",
       "      <th>CPF</th>\n",
       "      <th>NM_BENEFICIARIO</th>\n",
       "      <th>NIS_REPRESENTANTE</th>\n",
       "      <th>CPF_REPRESENTANTE</th>\n",
       "      <th>NM_REPRESENTANTE</th>\n",
       "      <th>NR_BENEFICIO</th>\n",
       "      <th>JUDICIALMENTE</th>\n",
       "      <th>VALOR</th>\n",
       "    </tr>\n",
       "  </thead>\n",
       "  <tbody>\n",
       "    <tr>\n",
       "      <th>0</th>\n",
       "      <td>201901</td>\n",
       "      <td>201901</td>\n",
       "      <td>AC</td>\n",
       "      <td>643</td>\n",
       "      <td>ACRELANDIA</td>\n",
       "      <td>***Titular menor de 16 anos***</td>\n",
       "      <td>***Titular menor de 16 anos***</td>\n",
       "      <td>***Titular menor de 16 anos***</td>\n",
       "      <td>12611806006.00</td>\n",
       "      <td>***.063.782-**</td>\n",
       "      <td>PEDRO DANTAS DA SILVA</td>\n",
       "      <td>7030464630</td>\n",
       "      <td>NÃO</td>\n",
       "      <td>998.00</td>\n",
       "    </tr>\n",
       "    <tr>\n",
       "      <th>1</th>\n",
       "      <td>201901</td>\n",
       "      <td>201901</td>\n",
       "      <td>AC</td>\n",
       "      <td>643</td>\n",
       "      <td>ACRELANDIA</td>\n",
       "      <td>***Titular menor de 16 anos***</td>\n",
       "      <td>***Titular menor de 16 anos***</td>\n",
       "      <td>***Titular menor de 16 anos***</td>\n",
       "      <td>26721463073.00</td>\n",
       "      <td>NaN</td>\n",
       "      <td>ALBERTINA BEZERRA DE SOUZA</td>\n",
       "      <td>7003011647</td>\n",
       "      <td>NÃO</td>\n",
       "      <td>998.00</td>\n",
       "    </tr>\n",
       "    <tr>\n",
       "      <th>2</th>\n",
       "      <td>201901</td>\n",
       "      <td>201901</td>\n",
       "      <td>AC</td>\n",
       "      <td>643</td>\n",
       "      <td>ACRELANDIA</td>\n",
       "      <td>***Titular menor de 16 anos***</td>\n",
       "      <td>***Titular menor de 16 anos***</td>\n",
       "      <td>***Titular menor de 16 anos***</td>\n",
       "      <td>16804173334.00</td>\n",
       "      <td>***.503.382-**</td>\n",
       "      <td>ROSANA LIMA SOARES</td>\n",
       "      <td>5220412180</td>\n",
       "      <td>NÃO</td>\n",
       "      <td>998.00</td>\n",
       "    </tr>\n",
       "  </tbody>\n",
       "</table>\n",
       "</div>"
      ],
      "text/plain": [
       "   MÊS_COMPETÊNCIA  MÊS_REFERÊNCIA  UF  COD_MUNICIPIO NM_MUNICIPIO  \\\n",
       "0           201901          201901  AC            643   ACRELANDIA   \n",
       "1           201901          201901  AC            643   ACRELANDIA   \n",
       "2           201901          201901  AC            643   ACRELANDIA   \n",
       "\n",
       "                              NIS                             CPF  \\\n",
       "0  ***Titular menor de 16 anos***  ***Titular menor de 16 anos***   \n",
       "1  ***Titular menor de 16 anos***  ***Titular menor de 16 anos***   \n",
       "2  ***Titular menor de 16 anos***  ***Titular menor de 16 anos***   \n",
       "\n",
       "                  NM_BENEFICIARIO  NIS_REPRESENTANTE CPF_REPRESENTANTE  \\\n",
       "0  ***Titular menor de 16 anos***     12611806006.00    ***.063.782-**   \n",
       "1  ***Titular menor de 16 anos***     26721463073.00               NaN   \n",
       "2  ***Titular menor de 16 anos***     16804173334.00    ***.503.382-**   \n",
       "\n",
       "             NM_REPRESENTANTE  NR_BENEFICIO JUDICIALMENTE  VALOR  \n",
       "0       PEDRO DANTAS DA SILVA    7030464630           NÃO 998.00  \n",
       "1  ALBERTINA BEZERRA DE SOUZA    7003011647           NÃO 998.00  \n",
       "2          ROSANA LIMA SOARES    5220412180           NÃO 998.00  "
      ]
     },
     "execution_count": 65,
     "metadata": {},
     "output_type": "execute_result"
    }
   ],
   "source": [
    "dados_bpc.head(3)"
   ]
  },
  {
   "cell_type": "code",
   "execution_count": 6,
   "metadata": {},
   "outputs": [
    {
     "data": {
      "text/plain": [
       "MÊS_COMPETÊNCIA        int64\n",
       "MÊS_REFERÊNCIA         int64\n",
       "UF                    object\n",
       "COD_MUNICIPIO          int64\n",
       "NM_MUNICIPIO          object\n",
       "NIS                   object\n",
       "CPF                   object\n",
       "NM_BENEFICIARIO       object\n",
       "NIS_REPRESENTANTE    float64\n",
       "CPF_REPRESENTANTE     object\n",
       "NM_REPRESENTANTE      object\n",
       "NR_BENEFICIO           int64\n",
       "JUDICIALMENTE         object\n",
       "VALOR                float64\n",
       "dtype: object"
      ]
     },
     "execution_count": 6,
     "metadata": {},
     "output_type": "execute_result"
    }
   ],
   "source": [
    "#Verifica a tipo das colunas do dataframe\n",
    "dados_bpc.dtypes"
   ]
  },
  {
   "cell_type": "markdown",
   "metadata": {},
   "source": [
    "### 2- Conhecendo os dados"
   ]
  },
  {
   "cell_type": "code",
   "execution_count": 8,
   "metadata": {},
   "outputs": [
    {
     "data": {
      "text/plain": [
       "MÊS_COMPETÊNCIA      4631027\n",
       "MÊS_REFERÊNCIA       4631027\n",
       "UF                   4631027\n",
       "COD_MUNICIPIO        4631027\n",
       "NM_MUNICIPIO         4631027\n",
       "NIS                  4631027\n",
       "CPF                  3042382\n",
       "NM_BENEFICIARIO      4631027\n",
       "NIS_REPRESENTANTE    4619620\n",
       "CPF_REPRESENTANTE    2924529\n",
       "NM_REPRESENTANTE     4619393\n",
       "NR_BENEFICIO         4631027\n",
       "JUDICIALMENTE        4631027\n",
       "VALOR                4631027\n",
       "dtype: int64"
      ]
     },
     "execution_count": 8,
     "metadata": {},
     "output_type": "execute_result"
    }
   ],
   "source": [
    "#Número de ocorrências por coluna\n",
    "dados_bpc.count()"
   ]
  },
  {
   "cell_type": "code",
   "execution_count": 9,
   "metadata": {},
   "outputs": [
    {
     "data": {
      "text/plain": [
       "True"
      ]
     },
     "execution_count": 9,
     "metadata": {},
     "output_type": "execute_result"
    }
   ],
   "source": [
    "#Verificar se há valores nulos na coluna CPF\n",
    "dados_bpc.CPF.isnull().values.any()"
   ]
  },
  {
   "cell_type": "code",
   "execution_count": 10,
   "metadata": {},
   "outputs": [
    {
     "data": {
      "text/plain": [
       "1588645"
      ]
     },
     "execution_count": 10,
     "metadata": {},
     "output_type": "execute_result"
    }
   ],
   "source": [
    "#Quantidade de valores nulos\n",
    "dados_bpc.CPF.isnull().sum()"
   ]
  },
  {
   "cell_type": "code",
   "execution_count": 8,
   "metadata": {},
   "outputs": [],
   "source": [
    "#Remove as colunas que não serão usadas para análises.\n",
    "df_bpc = dados_bpc.drop([\"MÊS_REFERÊNCIA\", \"COD_MUNICIPIO\",'NIS','CPF','NM_BENEFICIARIO','NIS_REPRESENTANTE','CPF_REPRESENTANTE','NM_REPRESENTANTE','NR_BENEFICIO'], axis=1)"
   ]
  },
  {
   "cell_type": "code",
   "execution_count": 14,
   "metadata": {},
   "outputs": [
    {
     "data": {
      "text/plain": [
       "MÊS_COMPETÊNCIA      int64\n",
       "UF                  object\n",
       "NM_MUNICIPIO        object\n",
       "JUDICIALMENTE       object\n",
       "VALOR              float64\n",
       "dtype: object"
      ]
     },
     "execution_count": 14,
     "metadata": {},
     "output_type": "execute_result"
    }
   ],
   "source": [
    "#Verifica a tipo das colunas do dataframe\n",
    "df_bpc.dtypes"
   ]
  },
  {
   "cell_type": "code",
   "execution_count": 15,
   "metadata": {},
   "outputs": [
    {
     "data": {
      "text/plain": [
       "(4631027, 5)"
      ]
     },
     "execution_count": 15,
     "metadata": {},
     "output_type": "execute_result"
    }
   ],
   "source": [
    "df_bpc.shape"
   ]
  },
  {
   "cell_type": "code",
   "execution_count": 17,
   "metadata": {},
   "outputs": [
    {
     "data": {
      "text/plain": [
       "MÊS_COMPETÊNCIA     object\n",
       "UF                  object\n",
       "NM_MUNICIPIO        object\n",
       "JUDICIALMENTE       object\n",
       "VALOR              float64\n",
       "dtype: object"
      ]
     },
     "execution_count": 17,
     "metadata": {},
     "output_type": "execute_result"
    }
   ],
   "source": [
    "#Converte a coluna para o tipo object\n",
    "df_bpc['MÊS_COMPETÊNCIA'] = df_bpc['MÊS_COMPETÊNCIA'].astype('object')\n",
    "df_bpc.dtypes"
   ]
  },
  {
   "cell_type": "code",
   "execution_count": 18,
   "metadata": {},
   "outputs": [
    {
     "data": {
      "text/html": [
       "<div>\n",
       "<style scoped>\n",
       "    .dataframe tbody tr th:only-of-type {\n",
       "        vertical-align: middle;\n",
       "    }\n",
       "\n",
       "    .dataframe tbody tr th {\n",
       "        vertical-align: top;\n",
       "    }\n",
       "\n",
       "    .dataframe thead th {\n",
       "        text-align: right;\n",
       "    }\n",
       "</style>\n",
       "<table border=\"1\" class=\"dataframe\">\n",
       "  <thead>\n",
       "    <tr style=\"text-align: right;\">\n",
       "      <th></th>\n",
       "      <th>MÊS_COMPETÊNCIA</th>\n",
       "      <th>UF</th>\n",
       "      <th>NM_MUNICIPIO</th>\n",
       "      <th>JUDICIALMENTE</th>\n",
       "      <th>VALOR</th>\n",
       "    </tr>\n",
       "  </thead>\n",
       "  <tbody>\n",
       "    <tr>\n",
       "      <th>0</th>\n",
       "      <td>201901</td>\n",
       "      <td>AC</td>\n",
       "      <td>ACRELANDIA</td>\n",
       "      <td>NÃO</td>\n",
       "      <td>998.00</td>\n",
       "    </tr>\n",
       "    <tr>\n",
       "      <th>1</th>\n",
       "      <td>201901</td>\n",
       "      <td>AC</td>\n",
       "      <td>ACRELANDIA</td>\n",
       "      <td>NÃO</td>\n",
       "      <td>998.00</td>\n",
       "    </tr>\n",
       "    <tr>\n",
       "      <th>2</th>\n",
       "      <td>201901</td>\n",
       "      <td>AC</td>\n",
       "      <td>ACRELANDIA</td>\n",
       "      <td>NÃO</td>\n",
       "      <td>998.00</td>\n",
       "    </tr>\n",
       "  </tbody>\n",
       "</table>\n",
       "</div>"
      ],
      "text/plain": [
       "  MÊS_COMPETÊNCIA  UF NM_MUNICIPIO JUDICIALMENTE  VALOR\n",
       "0          201901  AC   ACRELANDIA           NÃO 998.00\n",
       "1          201901  AC   ACRELANDIA           NÃO 998.00\n",
       "2          201901  AC   ACRELANDIA           NÃO 998.00"
      ]
     },
     "execution_count": 18,
     "metadata": {},
     "output_type": "execute_result"
    }
   ],
   "source": [
    "df_bpc.head(3)"
   ]
  },
  {
   "cell_type": "markdown",
   "metadata": {},
   "source": [
    "### 3 - Análises dos dados"
   ]
  },
  {
   "cell_type": "code",
   "execution_count": 15,
   "metadata": {},
   "outputs": [
    {
     "data": {
      "text/plain": [
       "UF\n",
       "SP    746620\n",
       "MG    465668\n",
       "BA    449389\n",
       "RJ    338231\n",
       "PE    312926\n",
       "CE    270880\n",
       "PA    211999\n",
       "PR    209807\n",
       "RS    200704\n",
       "MA    192226\n",
       "GO    155480\n",
       "PB    114873\n",
       "AL    114243\n",
       "AM    103543\n",
       "RN     84350\n",
       "MS     83944\n",
       "MT     83593\n",
       "SC     77687\n",
       "PI     77268\n",
       "ES     72442\n",
       "SE     61527\n",
       "DF     55014\n",
       "RO     45032\n",
       "TO     38889\n",
       "AP     25851\n",
       "AC     25752\n",
       "RR     13089\n",
       "dtype: int64"
      ]
     },
     "execution_count": 15,
     "metadata": {},
     "output_type": "execute_result"
    }
   ],
   "source": [
    "# Quantidade de Beneficios por estado\n",
    "bpc_uf = df_bpc.groupby(['UF'])\n",
    "total_uf = bpc_uf.size()\n",
    "total_uf.sort_values(ascending = False)"
   ]
  },
  {
   "cell_type": "code",
   "execution_count": 40,
   "metadata": {},
   "outputs": [
    {
     "data": {
      "text/html": [
       "<div>\n",
       "<style scoped>\n",
       "    .dataframe tbody tr th:only-of-type {\n",
       "        vertical-align: middle;\n",
       "    }\n",
       "\n",
       "    .dataframe tbody tr th {\n",
       "        vertical-align: top;\n",
       "    }\n",
       "\n",
       "    .dataframe thead th {\n",
       "        text-align: right;\n",
       "    }\n",
       "</style>\n",
       "<table border=\"1\" class=\"dataframe\">\n",
       "  <thead>\n",
       "    <tr style=\"text-align: right;\">\n",
       "      <th></th>\n",
       "      <th>VALOR</th>\n",
       "    </tr>\n",
       "  </thead>\n",
       "  <tbody>\n",
       "    <tr>\n",
       "      <th>count</th>\n",
       "      <td>4631027.00</td>\n",
       "    </tr>\n",
       "    <tr>\n",
       "      <th>mean</th>\n",
       "      <td>998.00</td>\n",
       "    </tr>\n",
       "    <tr>\n",
       "      <th>std</th>\n",
       "      <td>0.73</td>\n",
       "    </tr>\n",
       "    <tr>\n",
       "      <th>min</th>\n",
       "      <td>333.33</td>\n",
       "    </tr>\n",
       "    <tr>\n",
       "      <th>25%</th>\n",
       "      <td>998.00</td>\n",
       "    </tr>\n",
       "    <tr>\n",
       "      <th>50%</th>\n",
       "      <td>998.00</td>\n",
       "    </tr>\n",
       "    <tr>\n",
       "      <th>75%</th>\n",
       "      <td>998.00</td>\n",
       "    </tr>\n",
       "    <tr>\n",
       "      <th>max</th>\n",
       "      <td>1325.34</td>\n",
       "    </tr>\n",
       "  </tbody>\n",
       "</table>\n",
       "</div>"
      ],
      "text/plain": [
       "           VALOR\n",
       "count 4631027.00\n",
       "mean      998.00\n",
       "std         0.73\n",
       "min       333.33\n",
       "25%       998.00\n",
       "50%       998.00\n",
       "75%       998.00\n",
       "max      1325.34"
      ]
     },
     "execution_count": 40,
     "metadata": {},
     "output_type": "execute_result"
    }
   ],
   "source": [
    "# Quantidade de estados brasileiros com BPC\n",
    "len(bpc_uf.groups)"
   ]
  },
  {
   "cell_type": "code",
   "execution_count": 137,
   "metadata": {},
   "outputs": [
    {
     "data": {
      "text/plain": [
       "UF\n",
       "SP   745128111.70\n",
       "MG   464737084.16\n",
       "BA   448491373.77\n",
       "RJ   337554969.76\n",
       "PE   312300401.47\n",
       "CE   270339412.89\n",
       "PA   211575497.99\n",
       "PR   209386725.14\n",
       "RS   200302510.60\n",
       "MA   191841630.15\n",
       "GO   155169741.09\n",
       "PB   114643805.74\n",
       "AL   114014807.86\n",
       "AM   103335882.37\n",
       "RN    84181420.38\n",
       "MS    83776689.89\n",
       "MT    83428242.43\n",
       "SC    77532482.66\n",
       "PI    77113506.30\n",
       "ES    72297300.57\n",
       "SE    61403985.04\n",
       "DF    54904097.30\n",
       "RO    44941908.56\n",
       "TO    38811273.78\n",
       "AP    25799323.98\n",
       "AC    25700895.06\n",
       "RR    13062837.74\n",
       "Name: VALOR, dtype: float64"
      ]
     },
     "execution_count": 137,
     "metadata": {},
     "output_type": "execute_result"
    }
   ],
   "source": [
    "#Valor consolidado por UF\n",
    "df_ufValor = df_bpc['VALOR'].groupby(df_bpc['UF'])  \n",
    "df_ufValor.sum().sort_values(ascending = False)"
   ]
  },
  {
   "cell_type": "code",
   "execution_count": 130,
   "metadata": {
    "collapsed": true,
    "jupyter": {
     "outputs_hidden": true
    }
   },
   "outputs": [
    {
     "data": {
      "text/html": [
       "<div>\n",
       "<style scoped>\n",
       "    .dataframe tbody tr th:only-of-type {\n",
       "        vertical-align: middle;\n",
       "    }\n",
       "\n",
       "    .dataframe tbody tr th {\n",
       "        vertical-align: top;\n",
       "    }\n",
       "\n",
       "    .dataframe thead th {\n",
       "        text-align: right;\n",
       "    }\n",
       "</style>\n",
       "<table border=\"1\" class=\"dataframe\">\n",
       "  <thead>\n",
       "    <tr style=\"text-align: right;\">\n",
       "      <th></th>\n",
       "      <th>MÊS_COMPETÊNCIA</th>\n",
       "      <th>VALOR</th>\n",
       "    </tr>\n",
       "  </thead>\n",
       "  <tbody>\n",
       "    <tr>\n",
       "      <th>count</th>\n",
       "      <td>4631027.00</td>\n",
       "      <td>4631027.00</td>\n",
       "    </tr>\n",
       "    <tr>\n",
       "      <th>mean</th>\n",
       "      <td>201901.00</td>\n",
       "      <td>998.00</td>\n",
       "    </tr>\n",
       "    <tr>\n",
       "      <th>std</th>\n",
       "      <td>0.00</td>\n",
       "      <td>0.73</td>\n",
       "    </tr>\n",
       "    <tr>\n",
       "      <th>min</th>\n",
       "      <td>201901.00</td>\n",
       "      <td>333.33</td>\n",
       "    </tr>\n",
       "    <tr>\n",
       "      <th>25%</th>\n",
       "      <td>201901.00</td>\n",
       "      <td>998.00</td>\n",
       "    </tr>\n",
       "    <tr>\n",
       "      <th>50%</th>\n",
       "      <td>201901.00</td>\n",
       "      <td>998.00</td>\n",
       "    </tr>\n",
       "    <tr>\n",
       "      <th>75%</th>\n",
       "      <td>201901.00</td>\n",
       "      <td>998.00</td>\n",
       "    </tr>\n",
       "    <tr>\n",
       "      <th>max</th>\n",
       "      <td>201901.00</td>\n",
       "      <td>1325.34</td>\n",
       "    </tr>\n",
       "  </tbody>\n",
       "</table>\n",
       "</div>"
      ],
      "text/plain": [
       "       MÊS_COMPETÊNCIA      VALOR\n",
       "count       4631027.00 4631027.00\n",
       "mean         201901.00     998.00\n",
       "std               0.00       0.73\n",
       "min          201901.00     333.33\n",
       "25%          201901.00     998.00\n",
       "50%          201901.00     998.00\n",
       "75%          201901.00     998.00\n",
       "max          201901.00    1325.34"
      ]
     },
     "execution_count": 130,
     "metadata": {},
     "output_type": "execute_result"
    }
   ],
   "source": [
    "# Coletando estatísticas das colunas númericas\n",
    "df_bpc.describe()"
   ]
  },
  {
   "cell_type": "code",
   "execution_count": 86,
   "metadata": {},
   "outputs": [
    {
     "data": {
      "text/plain": [
       "NÃO    4163401\n",
       "SIM     467626\n",
       "Name: JUDICIALMENTE, dtype: int64"
      ]
     },
     "execution_count": 86,
     "metadata": {},
     "output_type": "execute_result"
    }
   ],
   "source": [
    "#Número de Beneficios que entram ou não por via judicial\n",
    "df_jud = df_bpc['JUDICIALMENTE'].value_counts()\n",
    "df_jud"
   ]
  },
  {
   "cell_type": "code",
   "execution_count": 120,
   "metadata": {},
   "outputs": [
    {
     "data": {
      "text/html": [
       "<div>\n",
       "<style scoped>\n",
       "    .dataframe tbody tr th:only-of-type {\n",
       "        vertical-align: middle;\n",
       "    }\n",
       "\n",
       "    .dataframe tbody tr th {\n",
       "        vertical-align: top;\n",
       "    }\n",
       "\n",
       "    .dataframe thead th {\n",
       "        text-align: right;\n",
       "    }\n",
       "</style>\n",
       "<table border=\"1\" class=\"dataframe\">\n",
       "  <thead>\n",
       "    <tr style=\"text-align: right;\">\n",
       "      <th></th>\n",
       "      <th>MÊS_COMPETÊNCIA</th>\n",
       "      <th>UF</th>\n",
       "      <th>NM_MUNICIPIO</th>\n",
       "      <th>JUDICIALMENTE</th>\n",
       "      <th>VALOR</th>\n",
       "    </tr>\n",
       "  </thead>\n",
       "  <tbody>\n",
       "    <tr>\n",
       "      <th>3531700</th>\n",
       "      <td>201901</td>\n",
       "      <td>RS</td>\n",
       "      <td>CANDIDO GODOI</td>\n",
       "      <td>SIM</td>\n",
       "      <td>333.33</td>\n",
       "    </tr>\n",
       "  </tbody>\n",
       "</table>\n",
       "</div>"
      ],
      "text/plain": [
       "         MÊS_COMPETÊNCIA  UF   NM_MUNICIPIO JUDICIALMENTE  VALOR\n",
       "3531700           201901  RS  CANDIDO GODOI           SIM 333.33"
      ]
     },
     "execution_count": 120,
     "metadata": {},
     "output_type": "execute_result"
    }
   ],
   "source": [
    "#Menor valor de beneficio \n",
    "df_min = df_bpc[df_bpc['VALOR'] <= 400]\n",
    "df_min.head(3)"
   ]
  },
  {
   "cell_type": "code",
   "execution_count": null,
   "metadata": {},
   "outputs": [],
   "source": [
    "#Beneficios maiores que R$1200,00 \n",
    "df_min = df_bpc[df_bpc['VALOR'] > 1200]\n",
    "df_min"
   ]
  },
  {
   "cell_type": "code",
   "execution_count": 171,
   "metadata": {},
   "outputs": [
    {
     "data": {
      "text/plain": [
       "4590802.07"
      ]
     },
     "execution_count": 171,
     "metadata": {},
     "output_type": "execute_result"
    }
   ],
   "source": [
    "#Valor para a cidade de Santos\n",
    "df_santos = df_bpc[df_bpc['NM_MUNICIPIO'] == 'SANTOS']\n",
    "df_santos.VALOR.sum()"
   ]
  },
  {
   "cell_type": "code",
   "execution_count": 174,
   "metadata": {},
   "outputs": [
    {
     "data": {
      "text/plain": [
       "SANTOS    4600\n",
       "Name: NM_MUNICIPIO, dtype: int64"
      ]
     },
     "execution_count": 174,
     "metadata": {},
     "output_type": "execute_result"
    }
   ],
   "source": [
    "#Quantidade de Beneficios\n",
    "df_santos['NM_MUNICIPIO'].value_counts()"
   ]
  },
  {
   "cell_type": "code",
   "execution_count": 184,
   "metadata": {},
   "outputs": [],
   "source": [
    "#df_bpc['REGIÃO'] = np.where(df_bpc['NM_MUNICIPIO'].isin(['SANTOS','PRAIA GRANDE','GUARUJA','CUBATÃO']),'BAIXADA SANTISTA', 'BRASIL')"
   ]
  },
  {
   "cell_type": "code",
   "execution_count": 186,
   "metadata": {},
   "outputs": [],
   "source": [
    "#df_baixada = df_bpc[df_bpc['REGIÃO'] == 'BAIXADA SANTISTA']\n",
    "#df_baixada\n",
    "\n",
    "#df_baixada_agg = df_baixada['VALOR'].groupby(df_baixada['NM_MUNICIPIO'])  \n",
    "#df_baixada_agg.sum()"
   ]
  },
  {
   "cell_type": "markdown",
   "metadata": {},
   "source": [
    "### 4- Gráficos"
   ]
  },
  {
   "cell_type": "code",
   "execution_count": 121,
   "metadata": {},
   "outputs": [],
   "source": [
    "x2 = ['NÃO', 'SIM']\n",
    "y2 = df_jud"
   ]
  },
  {
   "cell_type": "code",
   "execution_count": 129,
   "metadata": {},
   "outputs": [
    {
     "data": {
      "image/png": "[encoded data removed]",
      "text/plain": [
       "<Figure size 216x288 with 1 Axes>"
      ]
     },
     "metadata": {
      "needs_background": "light"
     },
     "output_type": "display_data"
    }
   ],
   "source": [
    "#plt.barh(x, y, label = 'Barras1', color = 'r')\n",
    "plt.figure(figsize = (3, 4))\n",
    "plt.bar(x2, y2, label = 'Nr. Beneficios', color = 'y', width = 0.3)\n",
    "plt.xlabel('Beneficios Concedidos Judicialmente', fontweight='bold', color = 'green', fontsize='12', horizontalalignment='center')\n",
    "plt.legend()\n",
    "plt.show()"
   ]
  },
  {
   "cell_type": "markdown",
   "metadata": {},
   "source": [
    "Matplotlib: https://matplotlib.org/3.1.1/gallery/index.html"
   ]
  },
  {
   "cell_type": "markdown",
   "metadata": {},
   "source": [
    "Seaborn: https://seaborn.pydata.org/examples/index.html"
   ]
  }
 ],
 "metadata": {
  "kernelspec": {
   "display_name": "Python 3",
   "language": "python",
   "name": "python3"
  },
  "language_info": {
   "codemirror_mode": {
    "name": "ipython",
    "version": 3
   },
   "file_extension": ".py",
   "mimetype": "text/x-python",
   "name": "python",
   "nbconvert_exporter": "python",
   "pygments_lexer": "ipython3",
   "version": "3.7.1"
  }
 },
 "nbformat": 4,
 "nbformat_minor": 4
}
